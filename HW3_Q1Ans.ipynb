{
 "cells": [
  {
   "cell_type": "code",
   "execution_count": 1,
   "metadata": {},
   "outputs": [
    {
     "name": "stderr",
     "output_type": "stream",
     "text": [
      "C:\\Users\\zarun\\Anaconda3\\lib\\site-packages\\sklearn\\cross_validation.py:44: DeprecationWarning: This module was deprecated in version 0.18 in favor of the model_selection module into which all the refactored classes and functions are moved. Also note that the interface of the new CV iterators are different from that of this module. This module will be removed in 0.20.\n",
      "  \"This module will be removed in 0.20.\", DeprecationWarning)\n"
     ]
    }
   ],
   "source": [
    "import numpy as np\n",
    "import pandas as pd\n",
    "from sklearn.linear_model import LogisticRegression\n",
    "from sklearn.tree import DecisionTreeClassifier\n",
    "from sklearn.neighbors import KNeighborsClassifier\n",
    "from sklearn.preprocessing import OneHotEncoder\n",
    "from sklearn.cross_validation import cross_val_score"
   ]
  },
  {
   "cell_type": "markdown",
   "metadata": {},
   "source": [
    "## a)"
   ]
  },
  {
   "cell_type": "code",
   "execution_count": 2,
   "metadata": {
    "collapsed": true
   },
   "outputs": [],
   "source": [
    "iris_df = pd.read_csv('C:/Users/zarun/Desktop/sem3/DataScience/HW3/Heart_s.csv')\n"
   ]
  },
  {
   "cell_type": "markdown",
   "metadata": {},
   "source": [
    "## b), c)"
   ]
  },
  {
   "cell_type": "code",
   "execution_count": 3,
   "metadata": {},
   "outputs": [],
   "source": [
    "feature_cols = ['Age','RestBP','Chol','RestECG', 'MaxHR', 'Oldpeak']\n",
    "X = iris_df[feature_cols]  \n",
    "y = iris_df['AHD']\n",
    "\n"
   ]
  },
  {
   "cell_type": "markdown",
   "metadata": {},
   "source": [
    "## d)"
   ]
  },
  {
   "cell_type": "code",
   "execution_count": 4,
   "metadata": {
    "collapsed": true
   },
   "outputs": [],
   "source": [
    "from sklearn.model_selection import train_test_split\n",
    "\n",
    "X_train, X_test, y_train, y_test = train_test_split(X, y, test_size=0.3, random_state=3)"
   ]
  },
  {
   "cell_type": "markdown",
   "metadata": {},
   "source": [
    "## e)"
   ]
  },
  {
   "cell_type": "code",
   "execution_count": 10,
   "metadata": {},
   "outputs": [
    {
     "name": "stdout",
     "output_type": "stream",
     "text": [
      "\u001b[1m\n",
      "KNN ACCURACY : 0.626373626374\n",
      "LOGISTIC REGRESSION ACCURACY: 0.846153846154\n",
      "DECISION TREE ACCURACY: 0.758241758242\n"
     ]
    }
   ],
   "source": [
    "my_knn_for_lab2 = KNeighborsClassifier(n_neighbors=5) \n",
    "my_logreg = LogisticRegression()\n",
    "my_decisiontree = DecisionTreeClassifier()\n",
    "\n",
    "my_knn_for_lab2.fit(X_train, y_train)\n",
    "my_logreg.fit(X_train, y_train)\n",
    "my_decisiontree.fit(X_train, y_train)\n",
    "\n",
    "y_predict_KNN = my_knn_for_lab2.predict(X_test)\n",
    "y_predict_lr = my_logreg.predict(X_test)\n",
    "y_predict_dt = my_decisiontree.predict(X_test)\n",
    "\n",
    "from sklearn.metrics import accuracy_score\n",
    "\n",
    "score_KNN = accuracy_score (y_test, y_predict_KNN)\n",
    "score_lr = accuracy_score(y_test, y_predict_lr)\n",
    "score_dt = accuracy_score(y_test, y_predict_dt)\n",
    "print ('\\033[1m')\n",
    "print('KNN ACCURACY :',score_KNN)\n",
    "print('LOGISTIC REGRESSION ACCURACY:',score_lr)\n",
    "print('DECISION TREE ACCURACY:',score_dt)\n"
   ]
  },
  {
   "cell_type": "markdown",
   "metadata": {},
   "source": [
    "__ _Logistic Regression is best_ __ and __ _Decision tree is worst_ __\n",
    "    \n",
    "    "
   ]
  },
  {
   "cell_type": "markdown",
   "metadata": {},
   "source": [
    "## f)"
   ]
  },
  {
   "cell_type": "code",
   "execution_count": 6,
   "metadata": {
    "collapsed": true
   },
   "outputs": [],
   "source": [
    "iris_df=pd.get_dummies(data=iris_df, columns=['Gender', 'ChestPain','Thal'])\n"
   ]
  },
  {
   "cell_type": "markdown",
   "metadata": {},
   "source": [
    "## g)"
   ]
  },
  {
   "cell_type": "code",
   "execution_count": 11,
   "metadata": {},
   "outputs": [
    {
     "name": "stdout",
     "output_type": "stream",
     "text": [
      "\u001b[1m\n",
      "Accuracy after OneHotEncoding\n",
      "KNN ACCURACY 0.626373626374\n",
      "LOGISTIC REGRESSION ACCURACY 0.846153846154\n",
      "DECISION TREE ACCURACY 0.78021978022\n"
     ]
    }
   ],
   "source": [
    "feature_cols = ['Age','RestBP','Chol','RestECG','MaxHR','Oldpeak','Gender_f','Gender_m','ChestPain_asymptomatic',\n",
    "                'ChestPain_nonanginal','ChestPain_nontypical','ChestPain_typical','Thal_fixed','Thal_normal','Thal_reversable']\n",
    "X = iris_df[feature_cols]  \n",
    "y = iris_df['AHD']\n",
    "X_train, X_test, y_train, y_test = train_test_split(X, y, test_size=0.3, random_state=3)\n",
    "my_knn_for_lab2.fit(X_train, y_train)\n",
    "my_logreg.fit(X_train, y_train)\n",
    "my_decisiontree.fit(X_train, y_train)\n",
    "\n",
    "y_predict_KNN = my_knn_for_lab2.predict(X_test)\n",
    "y_predict_lr = my_logreg.predict(X_test)\n",
    "y_predict_dt = my_decisiontree.predict(X_test)\n",
    "score_KNN = accuracy_score (y_test, y_predict_KNN)\n",
    "score_lr = accuracy_score(y_test, y_predict_lr)\n",
    "score_dt = accuracy_score(y_test, y_predict_dt)\n",
    "print ('\\033[1m')\n",
    "print(\"Accuracy after OneHotEncoding\")\n",
    "print('KNN ACCURACY',score_KNN)\n",
    "print('LOGISTIC REGRESSION ACCURACY',score_lr)\n",
    "print('DECISION TREE ACCURACY',score_dt)"
   ]
  },
  {
   "cell_type": "markdown",
   "metadata": {},
   "source": [
    "__ _Logistic is best_ __ and __ _KNN is worst_ __"
   ]
  },
  {
   "cell_type": "markdown",
   "metadata": {},
   "source": [
    "## H)\n",
    "\n"
   ]
  },
  {
   "cell_type": "code",
   "execution_count": 13,
   "metadata": {},
   "outputs": [
    {
     "name": "stdout",
     "output_type": "stream",
     "text": [
      "\u001b[1m\n",
      "Accuracy after OneHotEncoding and using corss-validation\n",
      "KNN ACCURACY 0.643926585095\n",
      "LOGISTIC REGRESSION ACCURACY 0.811568409344\n",
      "DECISION TREE ACCURACY 0.715524657026\n"
     ]
    }
   ],
   "source": [
    "accuracy_list_KNN = cross_val_score(my_knn_for_lab2, X, y, cv=10, scoring='accuracy')\n",
    "accuracy_list_LR = cross_val_score(my_logreg, X, y, cv=10, scoring='accuracy')\n",
    "accuracy_list_DT = cross_val_score(my_decisiontree, X, y, cv=10, scoring='accuracy')\n",
    "accuracy_cv_KNN = accuracy_list_KNN.mean()\n",
    "accuracy_cv_LR = accuracy_list_LR.mean()\n",
    "accuracy_cv_DT = accuracy_list_DT.mean()\n",
    "print ('\\033[1m')\n",
    "print(\"Accuracy after OneHotEncoding and using corss-validation\")\n",
    "\n",
    "print('KNN ACCURACY',accuracy_cv_KNN)\n",
    "print('LOGISTIC REGRESSION ACCURACY',accuracy_cv_LR)\n",
    "print('DECISION TREE ACCURACY',accuracy_cv_DT)"
   ]
  }
 ],
 "metadata": {
  "kernelspec": {
   "display_name": "Python 3",
   "language": "python",
   "name": "python3"
  },
  "language_info": {
   "codemirror_mode": {
    "name": "ipython",
    "version": 3
   },
   "file_extension": ".py",
   "mimetype": "text/x-python",
   "name": "python",
   "nbconvert_exporter": "python",
   "pygments_lexer": "ipython3",
   "version": "3.6.1"
  }
 },
 "nbformat": 4,
 "nbformat_minor": 2
}
