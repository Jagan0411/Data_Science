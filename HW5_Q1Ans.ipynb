{
 "cells": [
  {
   "cell_type": "markdown",
   "metadata": {},
   "source": [
    "# Homework 5 Q1\n",
    "### Jagannathan Chengavalli Lakshminarayanan - 305834859\n",
    "### Nanditha Raja - 305831258"
   ]
  },
  {
   "cell_type": "code",
   "execution_count": 8,
   "metadata": {},
   "outputs": [],
   "source": [
    "from sklearn.ensemble import RandomForestClassifier\n",
    "\n",
    "%matplotlib inline\n",
    "import matplotlib.image as mpimg \n",
    "import matplotlib.pyplot as plt\n",
    "\n",
    "# Importing the required packages and libraries\n",
    "# we will need numpy and pandas later\n",
    "import numpy as np\n",
    "import pandas as pd\n",
    "\n",
    "from sklearn.metrics import accuracy_score\n",
    "from sklearn.ensemble import RandomForestClassifier"
   ]
  },
  {
   "cell_type": "code",
   "execution_count": 9,
   "metadata": {},
   "outputs": [],
   "source": [
    "# reading a CSV file directly from Web, and store it in a pandas DataFrame:\n",
    "# \"read_csv\" is a pandas function to read csv files from web or local device:\n",
    "#iris_df = pd.read_csv('C:/Users/harish/Desktop/Fall17/CS4661/Lectures/HW/HW3/Heart_s.csv')\n",
    "\n",
    "PATH = 'C:/Users/harish/Desktop/Fall17/CS4661/Lectures/HW/Digit/'\n",
    "\n",
    "img0 = mpimg.imread('C:/Users/harish/Desktop/Fall17/CS4661/Lectures/HW/Digit/0.jpg')"
   ]
  },
  {
   "cell_type": "code",
   "execution_count": 10,
   "metadata": {},
   "outputs": [
    {
     "data": {
      "text/plain": [
       "<matplotlib.image.AxesImage at 0x2abb7ba630>"
      ]
     },
     "execution_count": 10,
     "metadata": {},
     "output_type": "execute_result"
    },
    {
     "data": {
      "image/png": "[encoded data removed]",
      "text/plain": [
       "<matplotlib.figure.Figure at 0x2abb74aa20>"
      ]
     },
     "metadata": {},
     "output_type": "display_data"
    }
   ],
   "source": [
    "plt.imshow(img0,cmap=plt.cm.gray_r,interpolation='nearest')"
   ]
  },
  {
   "cell_type": "code",
   "execution_count": 11,
   "metadata": {},
   "outputs": [
    {
     "name": "stdout",
     "output_type": "stream",
     "text": [
      "[[   0.    0.    0. ...,    0.    0.    0.]\n",
      " [   0.    0.   11. ...,  157.    0.   12.]\n",
      " [   0.    0.    5. ...,  255.  138.    0.]\n",
      " ..., \n",
      " [   5.    0.   22. ...,   87.   21.    0.]\n",
      " [   7.    0.   22. ...,  196.    0.    7.]\n",
      " [   0.   17.  155. ...,  198.   26.    0.]]\n"
     ]
    }
   ],
   "source": [
    "# It includes 1797 small images (8x8 pixels), each one includes a hand-written digit (0-9)\n",
    "\n",
    "# Creating an array to store the 1797 images\n",
    "df = np.zeros((1797,64))\n",
    "\n",
    "# Reading all the images and storing them\n",
    "for i in range (1,1797):\n",
    "    img = mpimg.imread('C:/Users/harish/Desktop/Fall17/CS4661/Lectures/HW/Digit/'+ str(i)+'.jpg')\n",
    "    reshape = img.reshape(64)\n",
    "    df[i] = np.copy(reshape)\n",
    "\n",
    "print(df)"
   ]
  },
  {
   "cell_type": "code",
   "execution_count": 23,
   "metadata": {},
   "outputs": [
    {
     "name": "stdout",
     "output_type": "stream",
     "text": [
      "0       0\n",
      "100     4\n",
      "200     1\n",
      "300     7\n",
      "400     4\n",
      "500     8\n",
      "600     2\n",
      "700     2\n",
      "800     4\n",
      "900     4\n",
      "1000    1\n",
      "1100    9\n",
      "1200    7\n",
      "1300    3\n",
      "1400    2\n",
      "1500    1\n",
      "1600    2\n",
      "1700    5\n",
      "Name: digit, dtype: int64\n"
     ]
    }
   ],
   "source": [
    "# Creating the Feature Matrix for the dataset:\n",
    "\n",
    "X = pd.DataFrame(df)  \n",
    "#print (X [0::10])\n",
    "\n",
    "# select a Series of labels (the last column) from the DataFrame\n",
    "label = pd.read_csv('C:/Users/harish/Desktop/Fall17/CS4661/Lectures/HW/label.csv')\n",
    "\n",
    "y = label['digit']\n",
    "#print (y [0::100])"
   ]
  },
  {
   "cell_type": "code",
   "execution_count": 24,
   "metadata": {
    "collapsed": true
   },
   "outputs": [],
   "source": [
    "# Randomly splitting the original dataset into training set and testing set\n",
    "# The function\"train_test_split\" from \"sklearn.cross_validation\" library performs random splitting.\n",
    "# \"test_size=0.1\" means that pick 10% of data samples for testing set, and the rest (90%) for training set.\n",
    "from sklearn.model_selection import train_test_split\n",
    "\n",
    "X_train, X_test, y_train, y_test = train_test_split(X, y, test_size=0.1, random_state=2)"
   ]
  },
  {
   "cell_type": "code",
   "execution_count": 25,
   "metadata": {},
   "outputs": [
    {
     "name": "stdout",
     "output_type": "stream",
     "text": [
      "RF Classifier accuracy: 0.916666666667\n"
     ]
    }
   ],
   "source": [
    "# Creating an 'object' for RF Classifier class\n",
    "my_rf = RandomForestClassifier(n_estimators = 19, bootstrap = True, random_state=2)\n",
    "\n",
    "# Training the data\n",
    "my_rf.fit(X_train, y_train)\n",
    "\n",
    "# Predicting the data\n",
    "y_predict_rf = my_rf.predict(X_test)\n",
    "\n",
    "# Calculating the accuracy\n",
    "rf_accuracy = accuracy_score (y_test, y_predict_rf)\n",
    "\n",
    "print(\"RF Classifier accuracy:\",rf_accuracy)"
   ]
  },
  {
   "cell_type": "code",
   "execution_count": 27,
   "metadata": {},
   "outputs": [
    {
     "name": "stdout",
     "output_type": "stream",
     "text": [
      "(array([  4,  13,  16,  41,  44,  45,  46,  49,  63, 115, 130, 137, 165,\n",
      "       174, 179], dtype=int64),)\n",
      "15\n"
     ]
    }
   ],
   "source": [
    "#Identifying and checking the misclassified data\n",
    "misclassified_data = np.where(y_test != y_predict_rf)\n",
    "\n",
    "# Printing the data\n",
    "print(misclassified_data)\n",
    "#Counting the misclassified data\n",
    "print(len(misclassified_data[0]))"
   ]
  },
  {
   "cell_type": "code",
   "execution_count": 30,
   "metadata": {},
   "outputs": [
    {
     "data": {
      "image/png": "[encoded data removed]",
      "text/plain": [
       "<matplotlib.figure.Figure at 0x2abb7cd828>"
      ]
     },
     "metadata": {},
     "output_type": "display_data"
    },
    {
     "data": {
      "image/png": "[encoded data removed]",
      "text/plain": [
       "<matplotlib.figure.Figure at 0x2abb784940>"
      ]
     },
     "metadata": {},
     "output_type": "display_data"
    },
    {
     "data": {
      "image/png": "[encoded data removed]",
      "text/plain": [
       "<matplotlib.figure.Figure at 0x2aba4f0668>"
      ]
     },
     "metadata": {},
     "output_type": "display_data"
    },
    {
     "data": {
      "image/png": "[encoded data removed]",
      "text/plain": [
       "<matplotlib.figure.Figure at 0x2abb777d30>"
      ]
     },
     "metadata": {},
     "output_type": "display_data"
    },
    {
     "data": {
      "image/png": "[encoded data removed]",
      "text/plain": [
       "<matplotlib.figure.Figure at 0x2abb95db38>"
      ]
     },
     "metadata": {},
     "output_type": "display_data"
    },
    {
     "data": {
      "image/png": "[encoded data removed]",
      "text/plain": [
       "<matplotlib.figure.Figure at 0x2abb9eec18>"
      ]
     },
     "metadata": {},
     "output_type": "display_data"
    },
    {
     "data": {
      "image/png": "[encoded data removed]",
      "text/plain": [
       "<matplotlib.figure.Figure at 0x2abba78860>"
      ]
     },
     "metadata": {},
     "output_type": "display_data"
    },
    {
     "data": {
      "image/png": "[encoded data removed]",
      "text/plain": [
       "<matplotlib.figure.Figure at 0x2abbb15cc0>"
      ]
     },
     "metadata": {},
     "output_type": "display_data"
    },
    {
     "data": {
      "image/png": "[encoded data removed]",
      "text/plain": [
       "<matplotlib.figure.Figure at 0x2abbba0ef0>"
      ]
     },
     "metadata": {},
     "output_type": "display_data"
    },
    {
     "data": {
      "image/png": "[encoded data removed]",
      "text/plain": [
       "<matplotlib.figure.Figure at 0x2abbaf2208>"
      ]
     },
     "metadata": {},
     "output_type": "display_data"
    },
    {
     "data": {
      "image/png": "[encoded data removed]",
      "text/plain": [
       "<matplotlib.figure.Figure at 0x2abbcced68>"
      ]
     },
     "metadata": {},
     "output_type": "display_data"
    },
    {
     "data": {
      "image/png": "[encoded data removed]",
      "text/plain": [
       "<matplotlib.figure.Figure at 0x2abbd59da0>"
      ]
     },
     "metadata": {},
     "output_type": "display_data"
    },
    {
     "data": {
      "image/png": "[encoded data removed]",
      "text/plain": [
       "<matplotlib.figure.Figure at 0x2abbddbf28>"
      ]
     },
     "metadata": {},
     "output_type": "display_data"
    },
    {
     "data": {
      "image/png": "[encoded data removed]",
      "text/plain": [
       "<matplotlib.figure.Figure at 0x2abbd2f7b8>"
      ]
     },
     "metadata": {},
     "output_type": "display_data"
    },
    {
     "data": {
      "image/png": "[encoded data removed]",
      "text/plain": [
       "<matplotlib.figure.Figure at 0x2abb9d4ef0>"
      ]
     },
     "metadata": {},
     "output_type": "display_data"
    }
   ],
   "source": [
    "for i in misclassified_data[0]:\n",
    "    img = mpimg.imread('C:/Users/harish/Desktop/Fall17/CS4661/Lectures/HW/Digit/'+ str(i)+'.jpg')\n",
    "    plt.imshow(img,cmap=plt.cm.gray_r, interpolation='nearest')\n",
    "    plt.show()"
   ]
  },
  {
   "cell_type": "code",
   "execution_count": null,
   "metadata": {
    "collapsed": true
   },
   "outputs": [],
   "source": []
  }
 ],
 "metadata": {
  "anaconda-cloud": {},
  "kernelspec": {
   "display_name": "Python 3",
   "language": "python",
   "name": "python3"
  },
  "language_info": {
   "codemirror_mode": {
    "name": "ipython",
    "version": 3
   },
   "file_extension": ".py",
   "mimetype": "text/x-python",
   "name": "python",
   "nbconvert_exporter": "python",
   "pygments_lexer": "ipython3",
   "version": "3.6.1"
  }
 },
 "nbformat": 4,
 "nbformat_minor": 1
}
