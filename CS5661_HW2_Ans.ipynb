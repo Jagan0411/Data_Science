{
 "cells": [
  {
   "cell_type": "markdown",
   "metadata": {},
   "source": [
    "# CS5661 Homework 2\n",
    "### Jagannathan Chengavalli Lakshminarayanan - 305834859"
   ]
  },
  {
   "cell_type": "code",
   "execution_count": 1,
   "metadata": {
    "collapsed": true
   },
   "outputs": [],
   "source": [
    "%matplotlib inline\n",
    "import matplotlib.image as mpimg \n",
    "import matplotlib.pyplot as plt\n",
    "\n",
    "# Importing the required packages and libraries\n",
    "# we will need numpy and pandas later\n",
    "import numpy as np\n",
    "import pandas as pd\n",
    "\n",
    "from sklearn.metrics import accuracy_score\n",
    "from sklearn.ensemble import RandomForestClassifier\n",
    "\n",
    "from sklearn.neural_network import MLPClassifier"
   ]
  },
  {
   "cell_type": "code",
   "execution_count": 2,
   "metadata": {
    "collapsed": true
   },
   "outputs": [],
   "source": [
    "# reading a CSV file directly from Web, and store it in a pandas DataFrame:\n",
    "# \"read_csv\" is a pandas function to read csv files from web or local device:\n",
    "#iris_df = pd.read_csv('C:/Users/harish/Desktop/Fall17/CS4661/Lectures/HW/HW3/Heart_s.csv')\n",
    "\n",
    "PATH = 'C:/Users/harish/Desktop/Spring18/CS5661/HW/HW2/Digit/'\n",
    "\n",
    "img0 = mpimg.imread('C:/Users/harish/Desktop/Spring18/CS5661/HW/HW2/Digit/0.jpg')"
   ]
  },
  {
   "cell_type": "code",
   "execution_count": 3,
   "metadata": {},
   "outputs": [
    {
     "data": {
      "text/plain": [
       "<matplotlib.image.AxesImage at 0xf1ff5d4e80>"
      ]
     },
     "execution_count": 3,
     "metadata": {},
     "output_type": "execute_result"
    },
    {
     "data": {
      "image/png": "[encoded data removed]",
      "text/plain": [
       "<matplotlib.figure.Figure at 0xf1ff1aaf28>"
      ]
     },
     "metadata": {},
     "output_type": "display_data"
    }
   ],
   "source": [
    "plt.imshow(img0,cmap=plt.cm.gray_r,interpolation='nearest')"
   ]
  },
  {
   "cell_type": "code",
   "execution_count": 4,
   "metadata": {},
   "outputs": [
    {
     "name": "stdout",
     "output_type": "stream",
     "text": [
      "[[   0.    0.    0. ...,    0.    0.    0.]\n",
      " [   0.    0.   11. ...,  157.    0.   12.]\n",
      " [   0.    0.    5. ...,  255.  138.    0.]\n",
      " ..., \n",
      " [   5.    0.   22. ...,   87.   21.    0.]\n",
      " [   7.    0.   22. ...,  196.    0.    7.]\n",
      " [   0.   17.  155. ...,  198.   26.    0.]]\n"
     ]
    }
   ],
   "source": [
    "# It includes 1797 small images (8x8 pixels), each one includes a hand-written digit (0-9)\n",
    "\n",
    "# Creating an array to store the 1797 images\n",
    "df = np.zeros((1797,64))\n",
    "\n",
    "# Reading all the images and storing them\n",
    "for i in range (1,1797):\n",
    "    img = mpimg.imread('C:/Users/harish/Desktop/Spring18/CS5661/HW/HW2/Digit/'+ str(i)+'.jpg')\n",
    "    reshape = img.reshape(64)\n",
    "    df[i] = np.copy(reshape)\n",
    "\n",
    "print(df)"
   ]
  },
  {
   "cell_type": "code",
   "execution_count": 5,
   "metadata": {
    "collapsed": true
   },
   "outputs": [],
   "source": [
    "# Creating the Feature Matrix for the dataset:\n",
    "\n",
    "X = pd.DataFrame(df)  \n",
    "#print (X [0::10])\n",
    "\n",
    "# select a Series of labels (the last column) from the DataFrame\n",
    "label = pd.read_csv('C:/Users/harish/Desktop/Spring18/CS5661/HW/HW2/label.csv')\n",
    "\n",
    "y = label['digit']\n",
    "#print (y [0::100])"
   ]
  },
  {
   "cell_type": "code",
   "execution_count": 6,
   "metadata": {
    "collapsed": true
   },
   "outputs": [],
   "source": [
    "# Randomly splitting the original dataset into training set and testing set\n",
    "# The function\"train_test_split\" from \"sklearn.cross_validation\" library performs random splitting.\n",
    "# \"test_size=0.1\" means that pick 10% of data samples for testing set, and the rest (90%) for training set.\n",
    "from sklearn.model_selection import train_test_split\n",
    "\n",
    "X_train, X_test, y_train, y_test = train_test_split(X, y, test_size=0.1, random_state=2)"
   ]
  },
  {
   "cell_type": "code",
   "execution_count": 7,
   "metadata": {
    "collapsed": true
   },
   "outputs": [],
   "source": [
    "# \"my_ANN\" is instantiated as an \"object\" of MLPClassifier \"class\". \n",
    "# hidden_layer_sizes: The ith element represents the number of neurons in the ith hidden layer.\n",
    "# activation: the non-linear function. 'logistic' means Sigmoid Function!\n",
    "# solver: the type of minimization problem: ‘sgd’ and 'adam' refer to stochastic gradient descent.\n",
    "# alpha: regularization parameter (L2 penalty term).\n",
    "# learning_rate_init: learning rate.\n",
    "\n",
    "# 1 Hidden Layer with 80 neurons:\n",
    "my_ANN = MLPClassifier(hidden_layer_sizes=(80,), activation= 'logistic', \n",
    "                       solver='adam', alpha=1e-5, random_state=1, \n",
    "                       learning_rate_init = 0.002)\n"
   ]
  },
  {
   "cell_type": "code",
   "execution_count": 8,
   "metadata": {},
   "outputs": [
    {
     "data": {
      "text/plain": [
       "MLPClassifier(activation='logistic', alpha=1e-05, batch_size='auto',\n",
       "       beta_1=0.9, beta_2=0.999, early_stopping=False, epsilon=1e-08,\n",
       "       hidden_layer_sizes=(80,), learning_rate='constant',\n",
       "       learning_rate_init=0.002, max_iter=200, momentum=0.9,\n",
       "       nesterovs_momentum=True, power_t=0.5, random_state=1, shuffle=True,\n",
       "       solver='adam', tol=0.0001, validation_fraction=0.1, verbose=False,\n",
       "       warm_start=False)"
      ]
     },
     "execution_count": 8,
     "metadata": {},
     "output_type": "execute_result"
    }
   ],
   "source": [
    "# Training ONLY on the training set:\n",
    "my_ANN.fit(X_train, y_train)"
   ]
  },
  {
   "cell_type": "code",
   "execution_count": 9,
   "metadata": {},
   "outputs": [
    {
     "name": "stdout",
     "output_type": "stream",
     "text": [
      "[4 0 9 1 8 7 1 5 1 6 6 7 6 1 5 5 8 6 2 7 4 6 4 1 5 2 9 5 4 6 5 6 3 4 0 9 9\n",
      " 8 4 6 8 1 5 7 5 6 9 6 1 3 0 1 9 7 3 3 1 1 8 8 9 8 5 8 7 8 7 5 8 4 3 9 3 8\n",
      " 7 3 3 0 8 7 2 8 5 3 8 7 6 4 6 2 2 0 1 1 5 3 5 7 1 8 2 2 6 4 6 7 3 7 3 9 4\n",
      " 7 0 3 5 1 5 0 3 9 2 7 3 2 0 8 1 9 2 1 9 9 0 3 4 3 0 8 3 2 2 7 3 1 6 7 2 8\n",
      " 3 1 1 6 4 8 2 1 8 4 1 3 1 1 9 5 4 9 7 4 8 9 5 7 6 9 4 0 4 0 0 9]\n"
     ]
    }
   ],
   "source": [
    "# Testing on the testing set:\n",
    "y_predict_ann = my_ANN.predict(X_test)\n",
    "print(y_predict_ann)"
   ]
  },
  {
   "cell_type": "code",
   "execution_count": 10,
   "metadata": {},
   "outputs": [
    {
     "name": "stdout",
     "output_type": "stream",
     "text": [
      "0.911111111111\n"
     ]
    }
   ],
   "source": [
    "score_ann = accuracy_score(y_test, y_predict_ann)\n",
    "print(score_ann)"
   ]
  },
  {
   "cell_type": "code",
   "execution_count": 11,
   "metadata": {},
   "outputs": [
    {
     "name": "stdout",
     "output_type": "stream",
     "text": [
      "Confusion matrix:\n",
      "[[13  0  0  0  1  0  0  0  0  0]\n",
      " [ 0 20  0  0  0  0  0  0  0  2]\n",
      " [ 0  0 14  0  0  0  0  0  0  0]\n",
      " [ 0  0  0 21  0  0  0  1  0  0]\n",
      " [ 0  0  0  0 16  0  0  1  3  1]\n",
      " [ 0  0  0  0  0 16  0  0  0  0]\n",
      " [ 0  1  0  0  0  0 17  0  0  0]\n",
      " [ 0  0  0  0  0  0  0 17  1  0]\n",
      " [ 0  2  0  0  0  0  0  0 16  1]\n",
      " [ 0  0  0  0  0  1  0  0  1 14]]\n"
     ]
    }
   ],
   "source": [
    "from sklearn import metrics\n",
    "\n",
    "cm_ANN = metrics.confusion_matrix(y_test, y_predict_ann)\n",
    "\n",
    "print(\"Confusion matrix:\")\n",
    "print(cm_ANN)\n"
   ]
  },
  {
   "cell_type": "code",
   "execution_count": 13,
   "metadata": {},
   "outputs": [
    {
     "name": "stdout",
     "output_type": "stream",
     "text": [
      "{'hidden_layer_sizes': [(50,), (51,), (52,), (53,), (54,), (55,), (56,), (57,), (58,), (59,), (60,), (61,), (62,), (63,), (64,), (65,), (66,), (67,), (68,), (69,), (70,), (71,), (72,), (73,), (74,), (75,), (76,), (77,), (78,), (79,), (80,), (81,), (82,), (83,), (84,), (85,), (86,), (87,), (88,), (89,), (90,), (91,), (92,), (93,), (94,), (95,), (96,), (97,), (98,), (99,), (100,), (101,), (102,), (103,), (104,), (105,), (106,), (107,), (108,), (109,), (110,), (111,), (112,), (113,), (114,), (115,), (116,), (117,), (118,), (119,), (120,), (121,), (122,), (123,), (124,), (125,), (126,), (127,), (128,), (129,), (130,), (131,), (132,), (133,), (134,), (135,), (136,), (137,), (138,), (139,), (140,), (141,), (142,), (143,), (144,), (145,), (146,), (147,), (148,), (149,), (150,), (151,), (152,), (153,), (154,), (155,), (156,), (157,), (158,), (159,), (160,), (161,), (162,), (163,), (164,), (165,), (166,), (167,), (168,), (169,), (170,), (171,), (172,), (173,), (174,), (175,), (176,), (177,), (178,), (179,), (180,), (181,), (182,), (183,), (184,), (185,), (186,), (187,), (188,), (189,), (190,), (191,), (192,), (193,), (194,), (195,), (196,), (197,), (198,), (199,), (200,)]} \n",
      "\n",
      "0.957707289928\n",
      "{'hidden_layer_sizes': (188,)}\n"
     ]
    }
   ],
   "source": [
    "from sklearn.model_selection import GridSearchCV\n",
    "\n",
    "# define a range for the \"number of neurons\" in the hidden layer for a network with 1 hidden layer:\n",
    "neuron_number = [(i,) for i in range(50,201)]\n",
    "\n",
    "# create a dictionary for grid parameter:\n",
    "param_grid = dict(hidden_layer_sizes = neuron_number)\n",
    "print(param_grid,'\\n')\n",
    "\n",
    "# instantiate the model:\n",
    "my_ANN1 = MLPClassifier(activation='logistic', solver='adam', \n",
    "                                         alpha=1e-5, random_state=1, \n",
    "                                           learning_rate_init = 0.002)\n",
    "\n",
    "# creat the grid, and define the metric for evaluating the model: \n",
    "grid = GridSearchCV(my_ANN1, param_grid, cv=10, scoring='accuracy')\n",
    "\n",
    "# fit the grid (start the grid search):\n",
    "grid.fit(X, y)\n",
    "\n",
    "# view the results:\n",
    "#print(grid.cv_results_)\n",
    "\n",
    "# view the best results corresponding to the best structure of ANN:\n",
    "print(grid.best_score_)\n",
    "print(grid.best_params_)"
   ]
  }
 ],
 "metadata": {
  "anaconda-cloud": {},
  "kernelspec": {
   "display_name": "Python 3",
   "language": "python",
   "name": "python3"
  },
  "language_info": {
   "codemirror_mode": {
    "name": "ipython",
    "version": 3
   },
   "file_extension": ".py",
   "mimetype": "text/x-python",
   "name": "python",
   "nbconvert_exporter": "python",
   "pygments_lexer": "ipython3",
   "version": "3.6.1"
  }
 },
 "nbformat": 4,
 "nbformat_minor": 1
}
